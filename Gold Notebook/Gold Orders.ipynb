{
 "cells": [
  {
   "cell_type": "code",
   "execution_count": 0,
   "metadata": {
    "application/vnd.databricks.v1+cell": {
     "cellMetadata": {
      "byteLimit": 2048000,
      "rowLimit": 10000
     },
     "inputWidgets": {},
     "nuid": "68054d85-9c50-4ae5-9547-61836371440d",
     "showTitle": false,
     "tableResultSettingsMap": {},
     "title": ""
    }
   },
   "outputs": [],
   "source": [
    "df = spark.read.format('delta').load('s3://silverbucketkrsna/Retail_YT_Project/orders/')"
   ]
  },
  {
   "cell_type": "code",
   "execution_count": 0,
   "metadata": {
    "application/vnd.databricks.v1+cell": {
     "cellMetadata": {
      "byteLimit": 2048000,
      "rowLimit": 10000
     },
     "inputWidgets": {},
     "nuid": "995a5480-30a2-4ba1-9773-38fd785fb261",
     "showTitle": false,
     "tableResultSettingsMap": {},
     "title": ""
    }
   },
   "outputs": [],
   "source": [
    "dimCustomerDf = spark.sql('select DimCustomerKey, customer_id as dim_customer_id from databricks_cata.gold.dimcustomers')\n",
    "dimProductsDf = spark.sql('select product_id as DimProductKey, product_id as dim_product_id from databricks_cata.gold.dimproducts')"
   ]
  },
  {
   "cell_type": "code",
   "execution_count": 0,
   "metadata": {
    "application/vnd.databricks.v1+cell": {
     "cellMetadata": {
      "byteLimit": 2048000,
      "rowLimit": 10000
     },
     "inputWidgets": {},
     "nuid": "35180d67-b2b8-4ea7-9615-b233501afe0e",
     "showTitle": false,
     "tableResultSettingsMap": {},
     "title": ""
    }
   },
   "outputs": [],
   "source": [
    "# dimCustomerDf.limit(5).display()\n",
    "# dimProductsDf.limit(5).display()"
   ]
  },
  {
   "cell_type": "code",
   "execution_count": 0,
   "metadata": {
    "application/vnd.databricks.v1+cell": {
     "cellMetadata": {
      "byteLimit": 2048000,
      "rowLimit": 10000
     },
     "inputWidgets": {},
     "nuid": "f808bde9-7d35-4c5d-b7bc-c2b6fd58af93",
     "showTitle": false,
     "tableResultSettingsMap": {},
     "title": ""
    }
   },
   "outputs": [],
   "source": [
    "factDf = df.join(dimCustomerDf, df['customer_id'] == dimCustomerDf['dim_customer_id'], how = 'left')\\\n",
    "           .join(dimProductsDf, df['customer_id'] == dimProductsDf['dim_product_id'], how = 'left')\n",
    "\n",
    "newfactDf = factDf.drop('dim_customer_id', 'dim_product_id')\n",
    "# newfactDf.limit(5).display()"
   ]
  },
  {
   "cell_type": "code",
   "execution_count": 0,
   "metadata": {
    "application/vnd.databricks.v1+cell": {
     "cellMetadata": {
      "byteLimit": 2048000,
      "rowLimit": 10000
     },
     "inputWidgets": {},
     "nuid": "276d5612-55b2-4fda-8f55-f21260df2063",
     "showTitle": false,
     "tableResultSettingsMap": {},
     "title": ""
    }
   },
   "outputs": [],
   "source": [
    "from delta.tables import DeltaTable"
   ]
  },
  {
   "cell_type": "code",
   "execution_count": 0,
   "metadata": {
    "application/vnd.databricks.v1+cell": {
     "cellMetadata": {
      "byteLimit": 2048000,
      "rowLimit": 10000
     },
     "inputWidgets": {},
     "nuid": "4e5f8c5a-1125-48b0-88d0-9886647a4aba",
     "showTitle": false,
     "tableResultSettingsMap": {},
     "title": ""
    }
   },
   "outputs": [],
   "source": [
    "if spark.catalog.tableExists('databricks_cata.gold.factOrders'):\n",
    "\n",
    "    dlt_obj = DeltaTable.forName(spark, 'databricks_cata.gold.factOrders')\n",
    "    dlt_obj.alias('tgt').merge(newfactDf.alias('src'), 'tgt.order_id = src.order_id and tgt.dimCustomerKey = src.dimCustomerKey and tgt.DimProductKey = src.DimProductKey')\\\n",
    "        .whenMatchedUpdateAll()\\\n",
    "        .whenNotMatchedInsertAll()\\\n",
    "        .execute()\n",
    "else:\n",
    "    newfactDf.write.format('delta').mode('overwrite').saveAsTable('databricks_cata.gold.factOrders')"
   ]
  }
 ],
 "metadata": {
  "application/vnd.databricks.v1+notebook": {
   "computePreferences": null,
   "dashboards": [],
   "environmentMetadata": {
    "base_environment": "",
    "environment_version": "2"
   },
   "inputWidgetPreferences": null,
   "language": "python",
   "notebookMetadata": {
    "mostRecentlyExecutedCommandWithImplicitDF": {
     "commandId": 8615295018728115,
     "dataframes": [
      "_sqldf"
     ]
    },
    "pythonIndentUnit": 4
   },
   "notebookName": "Gold Orders",
   "widgets": {}
  },
  "language_info": {
   "name": "python"
  }
 },
 "nbformat": 4,
 "nbformat_minor": 0
}
