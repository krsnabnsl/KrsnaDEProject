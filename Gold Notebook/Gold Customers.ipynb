{
 "cells": [
  {
   "cell_type": "code",
   "execution_count": 0,
   "metadata": {
    "application/vnd.databricks.v1+cell": {
     "cellMetadata": {
      "byteLimit": 2048000,
      "rowLimit": 10000
     },
     "inputWidgets": {},
     "nuid": "cc9c6b18-6eb2-4a9f-b1f9-4ba89e23d429",
     "showTitle": false,
     "tableResultSettingsMap": {},
     "title": ""
    }
   },
   "outputs": [],
   "source": [
    "from pyspark.sql.functions import *\n",
    "from pyspark.sql.types import *\n",
    "from delta.tables import DeltaTable"
   ]
  },
  {
   "cell_type": "code",
   "execution_count": 0,
   "metadata": {
    "application/vnd.databricks.v1+cell": {
     "cellMetadata": {
      "byteLimit": 2048000,
      "rowLimit": 10000
     },
     "inputWidgets": {},
     "nuid": "0a02dba2-1d46-40c4-895e-908bab6cd7c8",
     "showTitle": false,
     "tableResultSettingsMap": {},
     "title": ""
    }
   },
   "outputs": [],
   "source": [
    "init_load_flag = int(dbutils.widgets.get('init_load_flag'))"
   ]
  },
  {
   "cell_type": "code",
   "execution_count": 0,
   "metadata": {
    "application/vnd.databricks.v1+cell": {
     "cellMetadata": {
      "byteLimit": 2048000,
      "implicitDf": true,
      "rowLimit": 10000
     },
     "inputWidgets": {},
     "nuid": "86edc8d4-db61-436d-8d10-4c89b21390fd",
     "showTitle": false,
     "tableResultSettingsMap": {},
     "title": ""
    }
   },
   "outputs": [],
   "source": [
    "df = spark.sql(\"select * from databricks_cata.silver.customers\")"
   ]
  },
  {
   "cell_type": "code",
   "execution_count": 0,
   "metadata": {
    "application/vnd.databricks.v1+cell": {
     "cellMetadata": {
      "byteLimit": 2048000,
      "rowLimit": 10000
     },
     "inputWidgets": {},
     "nuid": "b4296490-0c72-40c9-ba03-5c1aa7ad3c02",
     "showTitle": false,
     "tableResultSettingsMap": {},
     "title": ""
    }
   },
   "outputs": [],
   "source": [
    "if init_load_flag == 0:\n",
    "    df_old = spark.sql(\"select DimCustomerkey as old_DimCustomerkey, customer_id as old_customer_id, create_date as old_create_date, update_date as old_update_date from databricks_cata.gold.dimcustomers\")\n",
    "\n",
    "else:\n",
    "    df_old = spark.sql(\"select 0 old_DimCustomerkey, 0 old_customer_id, 0 old_create_date, 0 old_update_date from databricks_cata.silver.customers where 1=0\")"
   ]
  },
  {
   "cell_type": "code",
   "execution_count": 0,
   "metadata": {
    "application/vnd.databricks.v1+cell": {
     "cellMetadata": {
      "byteLimit": 2048000,
      "rowLimit": 10000
     },
     "inputWidgets": {},
     "nuid": "194093eb-b746-489a-8d19-4c793218b220",
     "showTitle": false,
     "tableResultSettingsMap": {},
     "title": ""
    }
   },
   "outputs": [],
   "source": [
    "df.createOrReplaceTempView(\"mydf\")\n",
    "df_old.createOrReplaceTempView(\"myOldDf\")"
   ]
  },
  {
   "cell_type": "code",
   "execution_count": 0,
   "metadata": {
    "application/vnd.databricks.v1+cell": {
     "cellMetadata": {
      "byteLimit": 2048000,
      "implicitDf": true,
      "rowLimit": 10000
     },
     "inputWidgets": {},
     "nuid": "556e0c2d-2f85-4963-a7ed-76a0f39ef32e",
     "showTitle": false,
     "tableResultSettingsMap": {},
     "title": ""
    }
   },
   "outputs": [],
   "source": [
    "df.createOrReplaceTempView(\"mydf\")\n",
    "df_old.createOrReplaceTempView(\"myOldDf\")\n",
    "\n",
    "df_join = spark.sql('''select a.customer_id, a.email, a.city, a.state, a.domain, a.type, \n",
    "                    a.FullName, b.old_customer_id, b.old_DimCustomerkey, \n",
    "                    b.old_create_date, b.old_update_date from mydf a \n",
    "                    left join myOlddf b on a.customer_id = b.old_customer_id''')"
   ]
  },
  {
   "cell_type": "code",
   "execution_count": 0,
   "metadata": {
    "application/vnd.databricks.v1+cell": {
     "cellMetadata": {
      "byteLimit": 2048000,
      "rowLimit": 10000
     },
     "inputWidgets": {},
     "nuid": "02c236eb-9261-48d5-af4f-37558bc172c5",
     "showTitle": false,
     "tableResultSettingsMap": {},
     "title": ""
    }
   },
   "outputs": [],
   "source": [
    "df_new = df_join.filter(df_join['old_DimCustomerkey'].isNull())\n",
    "df_old = df_join.filter(df_join['old_DimCustomerkey'].isNotNull())"
   ]
  },
  {
   "cell_type": "markdown",
   "metadata": {
    "application/vnd.databricks.v1+cell": {
     "cellMetadata": {
      "byteLimit": 2048000,
      "rowLimit": 10000
     },
     "inputWidgets": {},
     "nuid": "37900034-ee51-4cb6-82d8-5a78ac7c3ccf",
     "showTitle": false,
     "tableResultSettingsMap": {},
     "title": ""
    }
   },
   "source": [
    "Processing old records"
   ]
  },
  {
   "cell_type": "code",
   "execution_count": 0,
   "metadata": {
    "application/vnd.databricks.v1+cell": {
     "cellMetadata": {
      "byteLimit": 2048000,
      "rowLimit": 10000
     },
     "inputWidgets": {},
     "nuid": "a1958991-5f0f-45cf-b004-d167733d63da",
     "showTitle": false,
     "tableResultSettingsMap": {},
     "title": ""
    }
   },
   "outputs": [],
   "source": [
    "oldJoinedDf = df_old.withColumn(\"update_date\", current_timestamp())\\\n",
    "               .withColumnRenamed(\"old_create_date\", \"create_date\")\\\n",
    "               .withColumnRenamed(\"old_DimCustomerKey\", \"DimCustomerKey\")\\\n",
    "               .withColumn(\"create_date\", to_timestamp(col('create_date')))\\\n",
    "               .drop(\"old_customer_id\", \"old_update_date\")"
   ]
  },
  {
   "cell_type": "markdown",
   "metadata": {
    "application/vnd.databricks.v1+cell": {
     "cellMetadata": {
      "byteLimit": 2048000,
      "rowLimit": 10000
     },
     "inputWidgets": {},
     "nuid": "5e4c14a9-d911-49d7-a134-916eca721134",
     "showTitle": false,
     "tableResultSettingsMap": {},
     "title": ""
    }
   },
   "source": [
    "Processing New Records"
   ]
  },
  {
   "cell_type": "code",
   "execution_count": 0,
   "metadata": {
    "application/vnd.databricks.v1+cell": {
     "cellMetadata": {
      "byteLimit": 2048000,
      "rowLimit": 10000
     },
     "inputWidgets": {},
     "nuid": "afa7ad83-4686-4ed0-be4c-784866837aed",
     "showTitle": false,
     "tableResultSettingsMap": {},
     "title": ""
    }
   },
   "outputs": [],
   "source": [
    "if init_load_flag == 0:\n",
    "    maxDimCustomerKeyId = spark.sql(\"select max(DimCustomerKey) from databricks_cata.gold.dimcustomers\").collect()[0][0]\n",
    "\n",
    "else:\n",
    "    maxDimCustomerKeyId = 0"
   ]
  },
  {
   "cell_type": "code",
   "execution_count": 0,
   "metadata": {
    "application/vnd.databricks.v1+cell": {
     "cellMetadata": {
      "byteLimit": 2048000,
      "rowLimit": 10000
     },
     "inputWidgets": {},
     "nuid": "45e3bc62-3748-4437-ac38-430d60d3e343",
     "showTitle": false,
     "tableResultSettingsMap": {},
     "title": ""
    }
   },
   "outputs": [],
   "source": [
    "newJoinedDf = df_new.withColumn('update_date', current_timestamp())\\\n",
    "                    .withColumn('create_date', current_timestamp())\\\n",
    "                    .withColumn('DimCustomerKey', monotonically_increasing_id()+maxDimCustomerKeyId+lit(1))\\\n",
    "                    .drop('old_DimCustomerKey', 'old_customer_id', 'old_create_date', 'old_update_date')"
   ]
  },
  {
   "cell_type": "code",
   "execution_count": 0,
   "metadata": {
    "application/vnd.databricks.v1+cell": {
     "cellMetadata": {
      "byteLimit": 2048000,
      "rowLimit": 10000
     },
     "inputWidgets": {},
     "nuid": "89f35753-2e68-4891-bedb-2e89a4ae7a46",
     "showTitle": false,
     "tableResultSettingsMap": {},
     "title": ""
    }
   },
   "outputs": [],
   "source": [
    "finalDf = oldJoinedDf.unionByName(newJoinedDf)\n",
    "finalDf.display()"
   ]
  },
  {
   "cell_type": "code",
   "execution_count": 0,
   "metadata": {
    "application/vnd.databricks.v1+cell": {
     "cellMetadata": {
      "byteLimit": 2048000,
      "rowLimit": 10000
     },
     "inputWidgets": {},
     "nuid": "d902a268-165c-4afd-a694-858591ca0908",
     "showTitle": false,
     "tableResultSettingsMap": {},
     "title": ""
    }
   },
   "outputs": [],
   "source": [
    "if spark.catalog.tableExists('databricks_cata.gold.DimCustomers'):\n",
    "\n",
    "    dlt_obj = DeltaTable.forPath(spark, 's3://goldbucketkrsna/Retail_YT_Project/DimCustomers')\n",
    "\n",
    "    dlt_obj.alias('tgt').merge(finalDf.alias('src'), \"src.DimCustomerKey = tgt.DimCustomerKey\")\\\n",
    "                        .whenMatchedUpdateAll()\\\n",
    "                        .whenNotMatchedInsertAll()\\\n",
    "                        .execute()\n",
    "\n",
    "else:\n",
    "    finalDf.write.format('delta').mode('overwrite')\\\n",
    "        .option('path', 's3://goldbucketkrsna/Retail_YT_Project/DimCustomers')\\\n",
    "        .saveAsTable('databricks_cata.gold.DimCustomers')"
   ]
  },
  {
   "cell_type": "code",
   "execution_count": 0,
   "metadata": {
    "application/vnd.databricks.v1+cell": {
     "cellMetadata": {
      "byteLimit": 2048000,
      "implicitDf": true,
      "rowLimit": 10000
     },
     "inputWidgets": {},
     "nuid": "ae2e653a-d5e8-40ba-9357-a15fc8400110",
     "showTitle": false,
     "tableResultSettingsMap": {},
     "title": ""
    }
   },
   "outputs": [],
   "source": [
    "%sql\n",
    "select * from databricks_cata.gold.dimcustomers"
   ]
  }
 ],
 "metadata": {
  "application/vnd.databricks.v1+notebook": {
   "computePreferences": null,
   "dashboards": [],
   "environmentMetadata": {
    "base_environment": "",
    "environment_version": "2"
   },
   "inputWidgetPreferences": null,
   "language": "python",
   "notebookMetadata": {
    "mostRecentlyExecutedCommandWithImplicitDF": {
     "commandId": 7638767959192536,
     "dataframes": [
      "_sqldf"
     ]
    },
    "pythonIndentUnit": 4
   },
   "notebookName": "Gold Customers",
   "widgets": {
    "init_load_flag": {
     "currentValue": "0",
     "nuid": "a6c57e31-c3f0-4cb8-9902-f2b66e81b88d",
     "typedWidgetInfo": {
      "autoCreated": false,
      "defaultValue": "",
      "label": "",
      "name": "init_load_flag",
      "options": {
       "widgetDisplayType": "Text",
       "validationRegex": null
      },
      "parameterDataType": "String"
     },
     "widgetInfo": {
      "widgetType": "text",
      "defaultValue": "",
      "label": "",
      "name": "init_load_flag",
      "options": {
       "widgetType": "text",
       "autoCreated": false,
       "validationRegex": null
      }
     }
    }
   }
  },
  "language_info": {
   "name": "python"
  }
 },
 "nbformat": 4,
 "nbformat_minor": 0
}
